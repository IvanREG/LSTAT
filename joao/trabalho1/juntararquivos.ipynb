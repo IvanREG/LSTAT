{
 "cells": [
  {
   "cell_type": "code",
   "execution_count": 42,
   "id": "5e61abcd-9db7-42c5-9792-37ffbaaee0db",
   "metadata": {},
   "outputs": [],
   "source": [
    "import pandas as pd\n",
    "import numpy as np"
   ]
  },
  {
   "cell_type": "code",
   "execution_count": 82,
   "id": "04fe5386-5f97-4c3b-b5f6-9ec5b1c65bcd",
   "metadata": {},
   "outputs": [
    {
     "name": "stderr",
     "output_type": "stream",
     "text": [
      "/tmp/ipykernel_8795/3555028725.py:1: FutureWarning: In a future version of pandas all arguments of read_csv except for the argument 'filepath_or_buffer' will be keyword-only.\n",
      "  dfmenor1 = pd.read_csv('menor1ano.csv',';')\n",
      "/tmp/ipykernel_8795/3555028725.py:8: FutureWarning: In a future version of pandas all arguments of read_csv except for the argument 'filepath_or_buffer' will be keyword-only.\n",
      "  df1a4 = pd.read_csv('1a4anos.csv',';')\n",
      "/tmp/ipykernel_8795/3555028725.py:15: FutureWarning: In a future version of pandas all arguments of read_csv except for the argument 'filepath_or_buffer' will be keyword-only.\n",
      "  df5a9 = pd.read_csv('5a9.csv',';')\n",
      "/tmp/ipykernel_8795/3555028725.py:22: FutureWarning: In a future version of pandas all arguments of read_csv except for the argument 'filepath_or_buffer' will be keyword-only.\n",
      "  df10a15 = pd.read_csv('10a15.csv',';')\n",
      "/tmp/ipykernel_8795/3555028725.py:29: FutureWarning: In a future version of pandas all arguments of read_csv except for the argument 'filepath_or_buffer' will be keyword-only.\n",
      "  pop = pd.read_csv('popu.csv',';')\n"
     ]
    }
   ],
   "source": [
    "dfmenor1 = pd.read_csv('joao/menor1ano.csv',';')\n",
    "dfmenor1 = dfmenor1.replace('-',0)\n",
    "faixa = 'menor 1 ano'\n",
    "dfmenor1 = dfmenor1.drop(dfmenor1[dfmenor1['Ano do Óbito']=='Total'].index) \n",
    "dfmenor1 = dfmenor1.apply(pd.to_numeric)\n",
    "dfmenor1.columns = dfmenor1.columns + ' ' + faixa\n",
    "\n",
    "df1a4 = pd.read_csv('joao/1a4anos.csv',';')\n",
    "faixa = '1 a 4 anos'\n",
    "df1a4 = df1a4.replace('-',0)\n",
    "df1a4 = df1a4.drop(df1a4[df1a4['Ano do Óbito']=='Total'].index) \n",
    "df1a4 = df1a4.apply(pd.to_numeric)\n",
    "df1a4.columns = df1a4.columns + ' ' + faixa\n",
    "\n",
    "df5a9 = pd.read_csv('joao/5a9.csv',';')\n",
    "faixa = '5 a 9 anos'\n",
    "df5a9 = df5a9.replace('-',0)\n",
    "df5a9 = df5a9.drop(df5a9[df5a9['Ano do Óbito']=='Total'].index) \n",
    "df5a9 = df5a9.apply(pd.to_numeric)\n",
    "df5a9.columns = df5a9.columns + ' ' + faixa\n",
    "\n",
    "df10a15 = pd.read_csv('joao/10a15.csv',';')\n",
    "faixa = '10 a 14 anos'\n",
    "df10a15 = df10a15.replace('-',0)\n",
    "df10a15 = df10a15.drop(df10a15[df10a15['Ano do Óbito']=='Total'].index) \n",
    "df10a15 = df10a15.apply(pd.to_numeric)\n",
    "df10a15.columns = df10a15.columns + ' ' + faixa\n",
    "\n",
    "pop = pd.read_csv('joao/popu.csv',';')\n",
    "colnames = pop.iloc[:,0]\n",
    "pop = pop.transpose().iloc[5:]\n",
    "pop.columns = colnames\n",
    "pop = pop.apply(pd.to_numeric)\n",
    "pop = pop.reset_index()\n",
    "pop.index = pd.to_numeric(pop.index)\n",
    "pop.columns = pop.columns+' populacao' \n",
    "pop['ano'] = pd.Series(np.arange(1997,2020))\n",
    "\n",
    "unificado = pd.DataFrame(np.arange(1996,2021))\n",
    "unificado.columns = ['ano']\n",
    "unificado = unificado.merge(dfmenor1,how='left',left_on='ano',right_on=dfmenor1.columns[0])\n",
    "unificado = unificado.merge(df1a4,how='left',left_on='ano',right_on=df1a4.columns[0])\n",
    "unificado = unificado.merge(df5a9,how='left',left_on='ano',right_on=df5a9.columns[0])\n",
    "unificado = unificado.merge(df10a15,how='left',left_on='ano',right_on=df10a15.columns[0])\n",
    "unificado = unificado.merge(pop,how='left',left_on='ano',right_on='ano')\n",
    "unificado = unificado.replace(np.NaN,0)\n",
    "colunas_manter = ['ano', '3205 SUL menor 1 ano',\n",
    "       '3207 METROPOLITANA menor 1 ano', '3209 CENTRAL NORTE menor 1 ano',\n",
    "       'Total menor 1 ano', '3205 SUL 1 a 4 anos',\n",
    "       '3207 METROPOLITANA 1 a 4 anos', '3209 CENTRAL NORTE 1 a 4 anos',\n",
    "       'Total 1 a 4 anos', '3205 SUL 5 a 9 anos',\n",
    "       '3207 METROPOLITANA 5 a 9 anos', '3209 CENTRAL NORTE 5 a 9 anos',\n",
    "       'Total 5 a 9 anos',\n",
    "       '3205 SUL 10 a 14 anos', '3207 METROPOLITANA 10 a 14 anos',\n",
    "       '3209 CENTRAL NORTE 10 a 14 anos', 'Total 10 a 14 anos',\n",
    "        '3205 SUL populacao', '3207 METROPOLITANA populacao',\n",
    "       '3209 CENTRAL NORTE populacao', 'Total populacao']\n",
    "unificado = unificado[colunas_manter]"
   ]
  }
 ],
 "metadata": {
  "kernelspec": {
   "display_name": "Python 3 (ipykernel)",
   "language": "python",
   "name": "python3"
  },
  "language_info": {
   "codemirror_mode": {
    "name": "ipython",
    "version": 3
   },
   "file_extension": ".py",
   "mimetype": "text/x-python",
   "name": "python",
   "nbconvert_exporter": "python",
   "pygments_lexer": "ipython3",
   "version": "3.10.6"
  }
 },
 "nbformat": 4,
 "nbformat_minor": 5
}
