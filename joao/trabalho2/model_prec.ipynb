{
 "cells": [
  {
   "cell_type": "code",
   "execution_count": 1,
   "id": "819a98ef-9dfd-4dcd-b08c-61b1a18964a2",
   "metadata": {},
   "outputs": [
    {
     "name": "stderr",
     "output_type": "stream",
     "text": [
      "/home/joaoholz/miniconda3/envs/lestat/lib/python3.8/site-packages/scipy/__init__.py:146: UserWarning: A NumPy version >=1.16.5 and <1.23.0 is required for this version of SciPy (detected version 1.23.3\n",
      "  warnings.warn(f\"A NumPy version >={np_minversion} and <{np_maxversion}\"\n"
     ]
    }
   ],
   "source": [
    "import pandas as pd, numpy as np\n",
    "#from jh_utils.data.pandas.preprocessing import make_dummies\n",
    "from get_df import get_data_for_ml,keep_cols,small_column_names_for_mldf\n",
    "from plot import lines_plot, columnX\n",
    "import seaborn as sns\n",
    "import statsmodels.tsa.stattools as smt\n",
    "from get_df import get_data_for_ml,keep_cols, get_data"
   ]
  },
  {
   "cell_type": "code",
   "execution_count": 10,
   "id": "bcd403ee-01f4-491d-be54-ef4975f4635c",
   "metadata": {},
   "outputs": [
    {
     "name": "stderr",
     "output_type": "stream",
     "text": [
      "/home/joaoholz/Documents/LSTAT/joao/trabalho2/get_df.py:29: FutureWarning: Series.dt.weekofyear and Series.dt.week have been deprecated. Please use Series.dt.isocalendar().week instead.\n",
      "  df['weekofyear'] = df.date_time.dt.weekofyear\n"
     ]
    }
   ],
   "source": [
    "df = get_data_for_ml()\n",
    "cols_to_keep = ['date_time']+list(filter(lambda x: 'precipitacao' in x, df.columns)) + list(df.columns[-19:])\n",
    "cols_to_keep = list(filter(lambda x: x not in ['hour','month','year','day_of_year','weekofyear'], cols_to_keep))\n",
    "df = df[cols_to_keep]\n",
    "df_just_stocastic = df.iloc[:,:5]\n",
    "df_just_stocastic.columns = ['datetime','A613','A614','A634','A612']\n",
    "df_just_stocastic.drop(['datetime'],inplace=True,axis=1)\n",
    "df.index = df.date_time\n",
    "df = df.resample('1D').mean()\n",
    "df.drop(['hour_9', 'hour_9**2','hour_9**3'],axis=1,inplace=True)"
   ]
  },
  {
   "cell_type": "code",
   "execution_count": 11,
   "id": "ce16962a-5eb9-48ab-830d-8099bba35915",
   "metadata": {},
   "outputs": [],
   "source": [
    "from statsmodels.tsa.api import VAR"
   ]
  },
  {
   "cell_type": "code",
   "execution_count": 15,
   "id": "eb39d21c-653a-48eb-a226-a6c586b05f47",
   "metadata": {},
   "outputs": [],
   "source": [
    "preciptation_matrix = df_just_stocastic.to_numpy()"
   ]
  },
  {
   "cell_type": "code",
   "execution_count": 23,
   "id": "a6e22f3b-b1b3-4cea-bfc9-6ecc83cb7f92",
   "metadata": {},
   "outputs": [],
   "source": [
    "var_model = VAR(df_just_stocastic)"
   ]
  },
  {
   "cell_type": "code",
   "execution_count": 24,
   "id": "7f92cced-65a4-4436-b5a6-0034ef726c64",
   "metadata": {},
   "outputs": [],
   "source": [
    "var_fit = var_model.fit()"
   ]
  },
  {
   "cell_type": "code",
   "execution_count": 26,
   "id": "1e30c9df-9fb3-4148-b83f-08ee5cf85c14",
   "metadata": {},
   "outputs": [
    {
     "data": {
      "text/plain": [
       "5"
      ]
     },
     "execution_count": 26,
     "metadata": {},
     "output_type": "execute_result"
    }
   ],
   "source": [
    "var_fit.df_model"
   ]
  },
  {
   "cell_type": "code",
   "execution_count": 27,
   "id": "55574983-e145-4845-acaa-7f7e8ebecad8",
   "metadata": {},
   "outputs": [
    {
     "data": {
      "text/html": [
       "<div>\n",
       "<style scoped>\n",
       "    .dataframe tbody tr th:only-of-type {\n",
       "        vertical-align: middle;\n",
       "    }\n",
       "\n",
       "    .dataframe tbody tr th {\n",
       "        vertical-align: top;\n",
       "    }\n",
       "\n",
       "    .dataframe thead th {\n",
       "        text-align: right;\n",
       "    }\n",
       "</style>\n",
       "<table border=\"1\" class=\"dataframe\">\n",
       "  <thead>\n",
       "    <tr style=\"text-align: right;\">\n",
       "      <th></th>\n",
       "      <th>A613</th>\n",
       "      <th>A614</th>\n",
       "      <th>A634</th>\n",
       "      <th>A612</th>\n",
       "    </tr>\n",
       "  </thead>\n",
       "  <tbody>\n",
       "    <tr>\n",
       "      <th>const</th>\n",
       "      <td>5.665398e-18</td>\n",
       "      <td>1.210520e-38</td>\n",
       "      <td>1.040264e-22</td>\n",
       "      <td>1.471705e-27</td>\n",
       "    </tr>\n",
       "    <tr>\n",
       "      <th>L1.A613</th>\n",
       "      <td>0.000000e+00</td>\n",
       "      <td>2.652668e-17</td>\n",
       "      <td>7.034869e-22</td>\n",
       "      <td>1.897449e-20</td>\n",
       "    </tr>\n",
       "    <tr>\n",
       "      <th>L1.A614</th>\n",
       "      <td>1.677070e-03</td>\n",
       "      <td>0.000000e+00</td>\n",
       "      <td>2.439759e-05</td>\n",
       "      <td>4.018405e-08</td>\n",
       "    </tr>\n",
       "    <tr>\n",
       "      <th>L1.A634</th>\n",
       "      <td>1.384930e-01</td>\n",
       "      <td>6.569069e-10</td>\n",
       "      <td>0.000000e+00</td>\n",
       "      <td>0.000000e+00</td>\n",
       "    </tr>\n",
       "    <tr>\n",
       "      <th>L1.A612</th>\n",
       "      <td>1.002373e-21</td>\n",
       "      <td>1.980864e-28</td>\n",
       "      <td>9.626748e-192</td>\n",
       "      <td>0.000000e+00</td>\n",
       "    </tr>\n",
       "  </tbody>\n",
       "</table>\n",
       "</div>"
      ],
      "text/plain": [
       "                 A613          A614           A634          A612\n",
       "const    5.665398e-18  1.210520e-38   1.040264e-22  1.471705e-27\n",
       "L1.A613  0.000000e+00  2.652668e-17   7.034869e-22  1.897449e-20\n",
       "L1.A614  1.677070e-03  0.000000e+00   2.439759e-05  4.018405e-08\n",
       "L1.A634  1.384930e-01  6.569069e-10   0.000000e+00  0.000000e+00\n",
       "L1.A612  1.002373e-21  1.980864e-28  9.626748e-192  0.000000e+00"
      ]
     },
     "execution_count": 27,
     "metadata": {},
     "output_type": "execute_result"
    }
   ],
   "source": [
    "var_fit.pvalues"
   ]
  },
  {
   "cell_type": "code",
   "execution_count": 25,
   "id": "fc29f5de-4666-4f6d-a9b7-4c11415fb132",
   "metadata": {},
   "outputs": [
    {
     "data": {
      "text/plain": [
       "  Summary of Regression Results   \n",
       "==================================\n",
       "Model:                         VAR\n",
       "Method:                        OLS\n",
       "Date:           Tue, 13, Dec, 2022\n",
       "Time:                     09:36:43\n",
       "--------------------------------------------------------------------\n",
       "No. of Equations:         4.00000    BIC:                  -0.241991\n",
       "Nobs:                     36827.0    HQIC:                 -0.245145\n",
       "Log likelihood:          -204460.    FPE:                   0.781442\n",
       "AIC:                    -0.246614    Det(Omega_mle):        0.781018\n",
       "--------------------------------------------------------------------\n",
       "Results for equation A613\n",
       "==========================================================================\n",
       "             coefficient       std. error           t-stat            prob\n",
       "--------------------------------------------------------------------------\n",
       "const           0.041666         0.004823            8.639           0.000\n",
       "L1.A613         0.604362         0.004169          144.968           0.000\n",
       "L1.A614         0.015480         0.004926            3.142           0.002\n",
       "L1.A634         0.006372         0.004301            1.481           0.138\n",
       "L1.A612         0.038580         0.004029            9.577           0.000\n",
       "==========================================================================\n",
       "\n",
       "Results for equation A614\n",
       "==========================================================================\n",
       "             coefficient       std. error           t-stat            prob\n",
       "--------------------------------------------------------------------------\n",
       "const           0.062754         0.004827           13.001           0.000\n",
       "L1.A613         0.035302         0.004172            8.461           0.000\n",
       "L1.A614         0.319860         0.004930           64.874           0.000\n",
       "L1.A634         0.026588         0.004305            6.176           0.000\n",
       "L1.A612         0.044589         0.004032           11.059           0.000\n",
       "==========================================================================\n",
       "\n",
       "Results for equation A634\n",
       "==========================================================================\n",
       "             coefficient       std. error           t-stat            prob\n",
       "--------------------------------------------------------------------------\n",
       "const           0.052712         0.005374            9.808           0.000\n",
       "L1.A613         0.044659         0.004646            9.613           0.000\n",
       "L1.A614         0.023168         0.005490            4.220           0.000\n",
       "L1.A634         0.424300         0.004793           88.521           0.000\n",
       "L1.A612         0.132598         0.004489           29.537           0.000\n",
       "==========================================================================\n",
       "\n",
       "Results for equation A612\n",
       "==========================================================================\n",
       "             coefficient       std. error           t-stat            prob\n",
       "--------------------------------------------------------------------------\n",
       "const           0.062497         0.005745           10.878           0.000\n",
       "L1.A613         0.046027         0.004966            9.268           0.000\n",
       "L1.A614         0.032219         0.005869            5.490           0.000\n",
       "L1.A634         0.250227         0.005124           48.833           0.000\n",
       "L1.A612         0.363058         0.004799           75.652           0.000\n",
       "==========================================================================\n",
       "\n",
       "Correlation matrix of residuals\n",
       "            A613      A614      A634      A612\n",
       "A613    1.000000  0.021289  0.045729  0.046558\n",
       "A614    0.021289  1.000000  0.010101  0.037497\n",
       "A634    0.045729  0.010101  1.000000  0.138600\n",
       "A612    0.046558  0.037497  0.138600  1.000000\n",
       "\n"
      ]
     },
     "execution_count": 25,
     "metadata": {},
     "output_type": "execute_result"
    }
   ],
   "source": [
    "var_fit.summary()"
   ]
  },
  {
   "cell_type": "code",
   "execution_count": null,
   "id": "3a535385-9735-4565-9c03-2eab7ad20b5b",
   "metadata": {},
   "outputs": [],
   "source": []
  }
 ],
 "metadata": {
  "kernelspec": {
   "display_name": "Python 3 (ipykernel)",
   "language": "python",
   "name": "python3"
  },
  "language_info": {
   "codemirror_mode": {
    "name": "ipython",
    "version": 3
   },
   "file_extension": ".py",
   "mimetype": "text/x-python",
   "name": "python",
   "nbconvert_exporter": "python",
   "pygments_lexer": "ipython3",
   "version": "3.8.0"
  }
 },
 "nbformat": 4,
 "nbformat_minor": 5
}
