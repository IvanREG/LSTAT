{
 "cells": [
  {
   "cell_type": "code",
   "execution_count": 1,
   "id": "28e524ed-c1c9-4bf5-a4d4-89073d9bb5bf",
   "metadata": {},
   "outputs": [],
   "source": [
    "import pandas as pd, numpy as np\n",
    "import matplotlib.pyplot as plt\n",
    "#from jh_utils.data.pandas.preprocessing import make_dummies"
   ]
  },
  {
   "cell_type": "code",
   "execution_count": 2,
   "id": "da53ca19-1ad6-432f-84dd-9ee99d30fc7d",
   "metadata": {},
   "outputs": [
    {
     "name": "stderr",
     "output_type": "stream",
     "text": [
      "/home/joaoholz/miniconda3/envs/lestat/lib/python3.8/site-packages/scipy/__init__.py:146: UserWarning: A NumPy version >=1.16.5 and <1.23.0 is required for this version of SciPy (detected version 1.23.3\n",
      "  warnings.warn(f\"A NumPy version >={np_minversion} and <{np_maxversion}\"\n"
     ]
    }
   ],
   "source": [
    "from get_df import get_data_for_ml,keep_cols"
   ]
  },
  {
   "cell_type": "code",
   "execution_count": 3,
   "id": "70877983-36f3-4ebc-b45e-93cb1bc21e88",
   "metadata": {},
   "outputs": [],
   "source": [
    "from plot import lines_plot, columnX\n",
    "import seaborn as sns"
   ]
  },
  {
   "cell_type": "code",
   "execution_count": 4,
   "id": "58516129-6ca2-4223-91d3-85b4f446c9b6",
   "metadata": {},
   "outputs": [
    {
     "name": "stderr",
     "output_type": "stream",
     "text": [
      "/home/joaoholz/Documents/lestat/2trabalho/get_df.py:24: FutureWarning: Series.dt.weekofyear and Series.dt.week have been deprecated. Please use Series.dt.isocalendar().week instead.\n",
      "  df['weekofyear'] = df.date_time.dt.weekofyear\n"
     ]
    }
   ],
   "source": [
    "df = get_data_for_ml()\n",
    "df = df[keep_cols]"
   ]
  },
  {
   "cell_type": "markdown",
   "id": "b386222c-7c79-44d9-9e8a-8a5053cd3bd1",
   "metadata": {},
   "source": [
    "----\n",
    " ## Cross validation"
   ]
  },
  {
   "cell_type": "code",
   "execution_count": 5,
   "id": "a0ded8cd-7f59-4a9b-8272-57c9e46ace49",
   "metadata": {},
   "outputs": [],
   "source": [
    "n = df.shape[0]\n",
    "n_train = int(n*0.7) + 1\n",
    "half = (n - n_train) / 2\n",
    "n_validation = int(n_train + half)"
   ]
  },
  {
   "cell_type": "code",
   "execution_count": 57,
   "id": "1ae0c64f-fbf5-4bec-8289-b535ae912ac4",
   "metadata": {},
   "outputs": [
    {
     "name": "stderr",
     "output_type": "stream",
     "text": [
      "/home/joaoholz/Documents/lestat/2trabalho/get_df.py:24: FutureWarning: Series.dt.weekofyear and Series.dt.week have been deprecated. Please use Series.dt.isocalendar().week instead.\n",
      "  df['weekofyear'] = df.date_time.dt.weekofyear\n"
     ]
    }
   ],
   "source": [
    "# ! to be easy to read again\n",
    "df = get_data_for_ml()\n",
    "df = df[keep_cols]"
   ]
  },
  {
   "cell_type": "code",
   "execution_count": 58,
   "id": "d48e99c8-111a-42c9-8ec4-e606b0c59080",
   "metadata": {},
   "outputs": [],
   "source": [
    "df_train = df.iloc[:n_train:]\n",
    "df_test = df.iloc[n_validation:,:]\n",
    "df_validation = df.iloc[n_train:n_validation,:]"
   ]
  },
  {
   "cell_type": "code",
   "execution_count": 59,
   "id": "d15dc3e4-b18e-4fe9-a7c3-50ac25b2ff42",
   "metadata": {},
   "outputs": [],
   "source": [
    "metadata = {}\n",
    "metadata['original'] = df.shape\n",
    "metadata['columns'] = keep_cols\n",
    "metadata['train'] = df_train.shape\n",
    "metadata['test'] = df_test.shape\n",
    "metadata['validation'] = df_validation.shape"
   ]
  },
  {
   "cell_type": "code",
   "execution_count": 60,
   "id": "3ed40ad5-d846-4380-a104-79a9d737e67a",
   "metadata": {},
   "outputs": [],
   "source": [
    "df = None"
   ]
  },
  {
   "cell_type": "markdown",
   "id": "e88f4ba0-72e6-4a37-89e7-609ee03422b3",
   "metadata": {},
   "source": [
    "---\n",
    "## Benchmark"
   ]
  },
  {
   "cell_type": "code",
   "execution_count": 61,
   "id": "f2338cff-1020-4225-a8ae-e49e06fd8c88",
   "metadata": {},
   "outputs": [],
   "source": [
    "from statsmodels.regression.linear_model import OLS\n",
    "from metrics import evaluate"
   ]
  },
  {
   "cell_type": "code",
   "execution_count": 62,
   "id": "d3599ee5-f287-45f2-a3d4-8015b8cf763d",
   "metadata": {},
   "outputs": [],
   "source": [
    "def transform(df):\n",
    "    y = df.iloc[:,0].to_numpy() \n",
    "    x = df.iloc[:,1:].to_numpy()\n",
    "    return {'x':x,'y':y}"
   ]
  },
  {
   "cell_type": "code",
   "execution_count": 63,
   "id": "aca281f1-9939-47ce-93f9-3844bb0a1fcf",
   "metadata": {},
   "outputs": [],
   "source": [
    "train = transform(df_train)\n",
    "test = transform(df_test)\n",
    "validation = transform(df_validation)"
   ]
  },
  {
   "cell_type": "code",
   "execution_count": 64,
   "id": "f344467b-f19f-48bf-af30-14ce653fc3cc",
   "metadata": {},
   "outputs": [],
   "source": [
    "ols_model = OLS(train['y'],train['x'])"
   ]
  },
  {
   "cell_type": "code",
   "execution_count": 65,
   "id": "2aa7b239-7b32-4acb-adfe-8d0d9268288c",
   "metadata": {},
   "outputs": [],
   "source": [
    "ols_model_fit = ols_model.fit()\n",
    "y_pred = ols_model_fit.predict(test['x'])\n",
    "y_pred_val = ols_model_fit.predict(validation['x'])"
   ]
  },
  {
   "cell_type": "code",
   "execution_count": 68,
   "id": "d3f9e204-315f-43a5-a303-75d3e718ce9b",
   "metadata": {},
   "outputs": [
    {
     "data": {
      "text/html": [
       "<div>\n",
       "<style scoped>\n",
       "    .dataframe tbody tr th:only-of-type {\n",
       "        vertical-align: middle;\n",
       "    }\n",
       "\n",
       "    .dataframe tbody tr th {\n",
       "        vertical-align: top;\n",
       "    }\n",
       "\n",
       "    .dataframe thead th {\n",
       "        text-align: right;\n",
       "    }\n",
       "</style>\n",
       "<table border=\"1\" class=\"dataframe\">\n",
       "  <thead>\n",
       "    <tr style=\"text-align: right;\">\n",
       "      <th></th>\n",
       "      <th>metrics_name</th>\n",
       "      <th>metrics</th>\n",
       "    </tr>\n",
       "  </thead>\n",
       "  <tbody>\n",
       "    <tr>\n",
       "      <th>0</th>\n",
       "      <td>max_error</td>\n",
       "      <td>9.462172</td>\n",
       "    </tr>\n",
       "    <tr>\n",
       "      <th>1</th>\n",
       "      <td>r2_score</td>\n",
       "      <td>0.867884</td>\n",
       "    </tr>\n",
       "    <tr>\n",
       "      <th>2</th>\n",
       "      <td>mean_squared_error</td>\n",
       "      <td>1.649207</td>\n",
       "    </tr>\n",
       "    <tr>\n",
       "      <th>3</th>\n",
       "      <td>median_absolute_error</td>\n",
       "      <td>0.712802</td>\n",
       "    </tr>\n",
       "    <tr>\n",
       "      <th>4</th>\n",
       "      <td>mean_absolute_error</td>\n",
       "      <td>0.932137</td>\n",
       "    </tr>\n",
       "    <tr>\n",
       "      <th>5</th>\n",
       "      <td>explained_variance_score</td>\n",
       "      <td>0.869216</td>\n",
       "    </tr>\n",
       "  </tbody>\n",
       "</table>\n",
       "</div>"
      ],
      "text/plain": [
       "               metrics_name   metrics\n",
       "0                 max_error  9.462172\n",
       "1                  r2_score  0.867884\n",
       "2        mean_squared_error  1.649207\n",
       "3     median_absolute_error  0.712802\n",
       "4       mean_absolute_error  0.932137\n",
       "5  explained_variance_score  0.869216"
      ]
     },
     "execution_count": 68,
     "metadata": {},
     "output_type": "execute_result"
    }
   ],
   "source": [
    "## test\n",
    "evaluate(y_pred,test['y'])"
   ]
  },
  {
   "cell_type": "code",
   "execution_count": 69,
   "id": "5452ac7b-801a-4d5c-a2f8-cbfa30ab7bf8",
   "metadata": {},
   "outputs": [
    {
     "data": {
      "text/html": [
       "<div>\n",
       "<style scoped>\n",
       "    .dataframe tbody tr th:only-of-type {\n",
       "        vertical-align: middle;\n",
       "    }\n",
       "\n",
       "    .dataframe tbody tr th {\n",
       "        vertical-align: top;\n",
       "    }\n",
       "\n",
       "    .dataframe thead th {\n",
       "        text-align: right;\n",
       "    }\n",
       "</style>\n",
       "<table border=\"1\" class=\"dataframe\">\n",
       "  <thead>\n",
       "    <tr style=\"text-align: right;\">\n",
       "      <th></th>\n",
       "      <th>metrics_name</th>\n",
       "      <th>metrics</th>\n",
       "    </tr>\n",
       "  </thead>\n",
       "  <tbody>\n",
       "    <tr>\n",
       "      <th>0</th>\n",
       "      <td>max_error</td>\n",
       "      <td>12.252112</td>\n",
       "    </tr>\n",
       "    <tr>\n",
       "      <th>1</th>\n",
       "      <td>r2_score</td>\n",
       "      <td>0.151893</td>\n",
       "    </tr>\n",
       "    <tr>\n",
       "      <th>2</th>\n",
       "      <td>mean_squared_error</td>\n",
       "      <td>12.817205</td>\n",
       "    </tr>\n",
       "    <tr>\n",
       "      <th>3</th>\n",
       "      <td>median_absolute_error</td>\n",
       "      <td>1.054911</td>\n",
       "    </tr>\n",
       "    <tr>\n",
       "      <th>4</th>\n",
       "      <td>mean_absolute_error</td>\n",
       "      <td>2.350192</td>\n",
       "    </tr>\n",
       "    <tr>\n",
       "      <th>5</th>\n",
       "      <td>explained_variance_score</td>\n",
       "      <td>0.304256</td>\n",
       "    </tr>\n",
       "  </tbody>\n",
       "</table>\n",
       "</div>"
      ],
      "text/plain": [
       "               metrics_name    metrics\n",
       "0                 max_error  12.252112\n",
       "1                  r2_score   0.151893\n",
       "2        mean_squared_error  12.817205\n",
       "3     median_absolute_error   1.054911\n",
       "4       mean_absolute_error   2.350192\n",
       "5  explained_variance_score   0.304256"
      ]
     },
     "execution_count": 69,
     "metadata": {},
     "output_type": "execute_result"
    }
   ],
   "source": [
    "## validation\n",
    "evaluate(y_pred_val,validation['y'])"
   ]
  },
  {
   "cell_type": "code",
   "execution_count": null,
   "id": "4c92adff-fc3e-48c9-9827-9de62e6c2b9d",
   "metadata": {},
   "outputs": [],
   "source": []
  }
 ],
 "metadata": {
  "kernelspec": {
   "display_name": "Python 3 (ipykernel)",
   "language": "python",
   "name": "python3"
  },
  "language_info": {
   "codemirror_mode": {
    "name": "ipython",
    "version": 3
   },
   "file_extension": ".py",
   "mimetype": "text/x-python",
   "name": "python",
   "nbconvert_exporter": "python",
   "pygments_lexer": "ipython3",
   "version": "3.8.0"
  }
 },
 "nbformat": 4,
 "nbformat_minor": 5
}
